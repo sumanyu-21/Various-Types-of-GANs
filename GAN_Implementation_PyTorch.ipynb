{
  "nbformat": 4,
  "nbformat_minor": 0,
  "metadata": {
    "colab": {
      "name": "GAN Implementation:PyTorch",
      "provenance": [],
      "collapsed_sections": []
    },
    "kernelspec": {
      "name": "python3",
      "display_name": "Python 3"
    },
    "accelerator": "GPU"
  },
  "cells": [
    {
      "cell_type": "markdown",
      "metadata": {
        "id": "6Bx2HlTaWoiP"
      },
      "source": [
        "<b>Importing Libraries</b>"
      ]
    },
    {
      "cell_type": "code",
      "metadata": {
        "id": "C-Ucsh-hnGQM"
      },
      "source": [
        "import torch\n",
        "from torch import nn, optim\n",
        "from torch.nn import functional as F\n",
        "\n",
        "import torchvision\n",
        "import torchvision.transforms as transforms\n",
        "from torch.utils.data import Dataset, DataLoader\n",
        "from torchvision.utils import save_image\n",
        "\n",
        "import matplotlib.pyplot as plt\n",
        "import numpy as np\n",
        "import math\n",
        "from torch.utils.tensorboard import SummaryWriter"
      ],
      "execution_count": 82,
      "outputs": []
    },
    {
      "cell_type": "code",
      "metadata": {
        "id": "yy7F32WAntj3"
      },
      "source": [
        "device = torch.device('cuda' if torch.cuda.is_available() else 'cpu')\n",
        "batch_size = 128"
      ],
      "execution_count": 21,
      "outputs": []
    },
    {
      "cell_type": "markdown",
      "metadata": {
        "id": "sI25UTa8ok5i"
      },
      "source": [
        "<b> Importing Data </b>"
      ]
    },
    {
      "cell_type": "code",
      "metadata": {
        "id": "sx1vV0B0okNS"
      },
      "source": [
        "# Custom class to flatten the tensor while loading dataset.\n",
        "class tensorFlatten():\n",
        "  def __init__(self, start_dim, end_dim):\n",
        "    self.start_dim = start_dim\n",
        "    self.end_dim = end_dim\n",
        "\n",
        "  def __call__(self, tensor):\n",
        "    flattened_tensor = torch.flatten(tensor, start_dim=self.start_dim, end_dim=self.end_dim)\n",
        "    return flattened_tensor\n",
        "\n",
        "  def __repr__(self):\n",
        "    repr = f\"{self.__class__.__name__  }(start_dim={self.start_dim}, end_dim={self.end_dim})\""
      ],
      "execution_count": 22,
      "outputs": []
    },
    {
      "cell_type": "code",
      "metadata": {
        "id": "YofhnvP1onwI"
      },
      "source": [
        "# Importing Data\n",
        "mnist_train = torchvision.datasets.FashionMNIST('/files/', train=True, download=True,\n",
        "                                                transform=torchvision.transforms.Compose([\n",
        "                                                                                           torchvision.transforms.ToTensor(),\n",
        "                                                                                           #torchvision.transforms.Normalize((0,),(1,)),\n",
        "                                                                                           tensorFlatten(0,-1)\n",
        "                                                                                            ])\n",
        "                                                )\n",
        "mnist_test = torchvision.datasets.FashionMNIST('./files/', train=False, download=True,\n",
        "                                                transform=torchvision.transforms.Compose([\n",
        "                                                                                           torchvision.transforms.ToTensor(),\n",
        "                                                                                           #torchvision.transforms.Normalize((0,),(1,)),\n",
        "                                                                                           tensorFlatten(0,-1)\n",
        "                                                                                            ])\n",
        "                                                )\n"
      ],
      "execution_count": 23,
      "outputs": []
    },
    {
      "cell_type": "code",
      "metadata": {
        "id": "DKACjZGkqxkn"
      },
      "source": [
        "train_loader = torch.utils.data.DataLoader(mnist_train, batch_size=batch_size, drop_last=True)\n",
        "test_loader = torch.utils.data.DataLoader(mnist_test, batch_size=batch_size, drop_last=True)"
      ],
      "execution_count": 24,
      "outputs": []
    },
    {
      "cell_type": "markdown",
      "metadata": {
        "id": "2M1dGlAIsufa"
      },
      "source": [
        "<b> Defining Learning Parameters</b>"
      ]
    },
    {
      "cell_type": "code",
      "metadata": {
        "id": "7KL9yK3IsAao"
      },
      "source": [
        "# Training Parameters\n",
        "lr = .0002\n",
        "epochs = 200\n",
        "\n",
        "# Network parameters\n",
        "image_dim = 28*28\n",
        "image_shape = (28,28)\n",
        "gen_hidden_nodes = 256\n",
        "dis_hidden_nodes = 256\n",
        "latent_space_dim = 100"
      ],
      "execution_count": 25,
      "outputs": []
    },
    {
      "cell_type": "markdown",
      "metadata": {
        "id": "okzRnY-i9B9-"
      },
      "source": [
        "# Defining Generator Network"
      ]
    },
    {
      "cell_type": "code",
      "metadata": {
        "id": "KAAYqhSRtNlP"
      },
      "source": [
        "class Generator(nn.Module):\n",
        "  def __init__(self):\n",
        "    super(Generator, self).__init__()\n",
        "\n",
        "    def block(in_feat, out_feat, normalize=False):\n",
        "      layers = [nn.Linear(in_feat, out_feat)]\n",
        "      if normalize:\n",
        "        layers.append(nn.BatchNorm1d(out_feat,.8))\n",
        "      layers.append(nn.LeakyReLU(0.2, inplace=True))\n",
        "      return layers\n",
        "\n",
        "    self.model = nn.Sequential(*block(in_feat = latent_space_dim, out_feat = gen_hidden_nodes),\n",
        "                               *block(in_feat = gen_hidden_nodes, out_feat = gen_hidden_nodes),\n",
        "                               nn.Linear(in_features=gen_hidden_nodes, out_features=int(np.prod(image_shape)))\n",
        "                               )\n",
        "  def forward(self, t):\n",
        "    t = t.to(device)\n",
        "    generated_image = torch.sigmoid(self.model(t))\n",
        "    generated_image = generated_image.view(generated_image.size(0), *image_shape)\n",
        "    return generated_image\n"
      ],
      "execution_count": 38,
      "outputs": []
    },
    {
      "cell_type": "markdown",
      "metadata": {
        "id": "E09ucq2X9Gpp"
      },
      "source": [
        "# Defining Discriminator Network"
      ]
    },
    {
      "cell_type": "code",
      "metadata": {
        "id": "vYCRCEcu9Oj-"
      },
      "source": [
        "class Discriminator(nn.Module):\n",
        "  def __init__(self):\n",
        "    super(Discriminator, self).__init__()\n",
        "\n",
        "    self.model = nn.Sequential(nn.Linear(int(np.prod(image_shape)), dis_hidden_nodes),\n",
        "                               nn.LeakyReLU(0.2, inplace=True),\n",
        "                               nn.Linear(dis_hidden_nodes, int(dis_hidden_nodes/2)),\n",
        "                               nn.LeakyReLU(0.2, inplace=True),\n",
        "                               nn.Linear(int(dis_hidden_nodes/2),1),\n",
        "                               )\n",
        "  def forward(self, t):\n",
        "    t = t.to(device)\n",
        "    t = t.view(t.size(0), -1)\n",
        "    t = self.model(t)\n",
        "    return torch.sigmoid(t) # BCELoss does not compute sigmoid by default."
      ],
      "execution_count": 39,
      "outputs": []
    },
    {
      "cell_type": "markdown",
      "metadata": {
        "id": "spSYYzXVW4G1"
      },
      "source": [
        "# Defining Loss Functions"
      ]
    },
    {
      "cell_type": "code",
      "metadata": {
        "id": "lx8FHTQYHZbB"
      },
      "source": [
        "def GeneratorLoss(fake_output_disc):\n",
        "  return -torch.mean(torch.log(fake_output_disc) + .0001) # Due to maxlog(D(G(x))\n",
        "                                                          # - sign is used to maximize the above function.\n",
        "\n",
        "\n",
        "DiscriminatorLoss = torch.nn.BCELoss() # Does not compute sogmoids by default."
      ],
      "execution_count": 40,
      "outputs": []
    },
    {
      "cell_type": "code",
      "metadata": {
        "id": "FdsIFGYZAb9i"
      },
      "source": [
        "writer_real = SummaryWriter('./logs')\n",
        "writer_fake = SummaryWriter('./logs')\n",
        "loss_summary = SummaryWriter('./logs')"
      ],
      "execution_count": 41,
      "outputs": []
    },
    {
      "cell_type": "markdown",
      "metadata": {
        "id": "dVvMMf9aW9q3"
      },
      "source": [
        "# Training Discriminator and Generator"
      ]
    },
    {
      "cell_type": "code",
      "metadata": {
        "id": "OeqCXU70HJok"
      },
      "source": [
        "def TrainingLoop(Generator, Discriminator, optimizer_gen, optimizer_dis, epochs, train_loader):\n",
        "  gen_loss_summary = []\n",
        "  dis_loss_summary = []\n",
        "\n",
        "  for epoch in range(epochs):\n",
        "    print(f'Epoch: {epoch} started---------------------------------------->')\n",
        "    gen_loss_avg = 0\n",
        "    dis_loss_avg = 0\n",
        "    for batch_idx, (real_images,_) in enumerate(train_loader):\n",
        "\n",
        "      real_images.to(device)\n",
        "\n",
        "      # Adversarial Ground Truths\n",
        "      real_labels = torch.ones(size = (batch_size,1)).to(device)\n",
        "      fake_labels = torch.zeros(size = (batch_size,1)).to(device)\n",
        "\n",
        "      # Gererate Fake samples\n",
        "      latent_space = torch.randn((batch_size,latent_space_dim)).to(device)\n",
        "      fake_images = generator(latent_space).view(-1,int(np.prod(image_shape)))\n",
        "      #print(type(fake_images))\n",
        "      #print(fake_images.grad_fn)\n",
        "\n",
        "      # ---------------------\n",
        "      #  Train Discriminator\n",
        "      # ---------------------\n",
        "\n",
        "      real_loss = DiscriminatorLoss(discriminator(real_images), real_labels)\n",
        "      fake_loss = DiscriminatorLoss(discriminator(fake_images.detach()), fake_labels)\n",
        "      dis_loss = real_loss + fake_loss\n",
        "\n",
        "      optimizer_dis.zero_grad()\n",
        "      dis_loss.backward()\n",
        "      #print(generator.parameters())\n",
        "      optimizer_dis.step()\n",
        "      #print(fake_images.requires_grad)\n",
        "\n",
        "      # -----------------\n",
        "      #  Train Generator\n",
        "      # -----------------\n",
        "  \n",
        "      gen_loss = GeneratorLoss(discriminator(fake_images))\n",
        "      # Computational graph will be created for discriminator and gradients will be calculated of loss wrt discrimintor weights. \n",
        "      # However, this time this is exactly what we need.\n",
        "      optimizer_gen.zero_grad()\n",
        "      gen_loss.backward()\n",
        "      optimizer_gen.step()\n",
        "   \n",
        "     \n",
        "\n",
        "      gen_loss_avg = gen_loss_avg + (gen_loss.item() - gen_loss_avg)/(epoch+1)\n",
        "      dis_loss_avg = dis_loss_avg + (dis_loss.item() - dis_loss_avg)/(epoch+1)\n",
        "\n",
        "      \n",
        "\n",
        "      if(batch_idx%100==0):\n",
        "        print(f'Epoch: [{epoch}/{epochs}], Batch:{batch_idx}/{len(train_loader)}---->GeneratorLoss = {gen_loss:.4f} and DiscriminatorLoss = {dis_loss:.4f}')\n",
        "    \n",
        "    if epoch%10==0:\n",
        "      with torch.no_grad():\n",
        "        fake_images = generator(latent_space)\n",
        "        #img_grid_real = torchvision.utils.make_grid(real_images[:32].reshape(-1,28,28), normalize=True)\n",
        "        #img_grid_fake = torchvision.utils.make_grid(fake_images[:32].reshape(-1,28,28), normalize=True)\n",
        "        #print(img_grid_real.shape)\n",
        "        writer_real.add_images('Mnist Real Images', real_images[:32].reshape(-1,1,28,28))\n",
        "        writer_fake.add_images(\"Mnist Fake Images\", fake_images[:32].reshape(-1,1,28,28))\n",
        "        loss_summary.add_scalar('Avg Generator Loss in one Epoch', gen_loss_avg, epoch)\n",
        "        loss_summary.add_scalar('Avg Discriminator Loss in one Epoch', dis_loss_avg, epoch)\n",
        "\n",
        "    gen_loss_summary.append(gen_loss_avg)\n",
        "    dis_loss_summary.append(dis_loss_avg)\n",
        "  \n",
        "  print('Finished Training')\n",
        "  return gen_loss_summary, dis_loss_summary\n",
        "\n"
      ],
      "execution_count": 98,
      "outputs": []
    },
    {
      "cell_type": "code",
      "metadata": {
        "id": "WofWcAToxbVx"
      },
      "source": [
        "generator = Generator().to(device)\n",
        "optimizer_gen = optim.Adam(generator.parameters(), lr = lr)\n",
        "\n",
        "discriminator = Discriminator().to(device)\n",
        "optimizer_dis = optim.Adam(discriminator.parameters(), lr=lr)"
      ],
      "execution_count": 99,
      "outputs": []
    },
    {
      "cell_type": "code",
      "metadata": {
        "id": "pu4NUN50G2qd"
      },
      "source": [
        "generator_loss_summary, test_loss_summary = TrainingLoop(generator, discriminator, optimizer_gen, optimizer_dis, epochs, train_loader)"
      ],
      "execution_count": null,
      "outputs": []
    },
    {
      "cell_type": "markdown",
      "metadata": {
        "id": "cQSGlZ-rXC6Y"
      },
      "source": [
        "# Plotting Graphs"
      ]
    },
    {
      "cell_type": "code",
      "metadata": {
        "id": "HvABHCcaOgK8",
        "outputId": "ddb703f2-2c09-4e68-f6e5-9b0d6cb6e06d",
        "colab": {
          "base_uri": "https://localhost:8080/",
          "height": 351
        }
      },
      "source": [
        "plt.figure(1,figsize=(10,5))\n",
        "plt.subplot(121)\n",
        "plt.plot(np.arange(epochs), generator_loss_summary)\n",
        "plt.xlabel('Epochs')\n",
        "plt.ylabel('Avg Generator Loss in one Epoch')\n",
        "plt.grid()\n",
        "\n",
        "plt.subplot(122)\n",
        "plt.plot( np.arange(epochs), test_loss_summary)\n",
        "plt.xlabel('Epochs')\n",
        "plt.ylabel('Avg Discriminator Loss in one Epoch')\n",
        "plt.grid()\n",
        "plt.plot()"
      ],
      "execution_count": 107,
      "outputs": [
        {
          "output_type": "execute_result",
          "data": {
            "text/plain": [
              "[]"
            ]
          },
          "metadata": {
            "tags": []
          },
          "execution_count": 107
        },
        {
          "output_type": "display_data",
          "data": {
            "image/png": "[encoded data removed]",
            "text/plain": [
              "<Figure size 720x360 with 2 Axes>"
            ]
          },
          "metadata": {
            "tags": [],
            "needs_background": "light"
          }
        }
      ]
    },
    {
      "cell_type": "code",
      "metadata": {
        "id": "E54vqLBgPgAB"
      },
      "source": [
        ""
      ],
      "execution_count": null,
      "outputs": []
    }
  ]
}